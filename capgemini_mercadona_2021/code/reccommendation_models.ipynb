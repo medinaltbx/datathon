{
  "nbformat": 4,
  "nbformat_minor": 0,
  "metadata": {
    "colab": {
      "name": "reccommendation_models.ipynb",
      "provenance": [],
      "collapsed_sections": []
    },
    "kernelspec": {
      "name": "python3",
      "display_name": "Python 3"
    },
    "language_info": {
      "name": "python"
    }
  },
  "cells": [
    {
      "cell_type": "code",
      "source": [
        "# FIRST MODEL: apriori"
      ],
      "metadata": {
        "id": "1C1oQL04WVTo"
      },
      "execution_count": null,
      "outputs": []
    },
    {
      "cell_type": "code",
      "metadata": {
        "colab": {
          "base_uri": "https://localhost:8080/"
        },
        "id": "taaEVyQUVr6u",
        "outputId": "4e251672-bf81-4de5-dddb-5089e6ad32af"
      },
      "source": [
        "!pip install apyori\n",
        "import pandas as pd\n",
        "import pickle\n",
        "from tqdm import tqdm\n",
        "from apyori import apriori\n",
        "tqdm.pandas()"
      ],
      "execution_count": null,
      "outputs": [
        {
          "output_type": "stream",
          "name": "stdout",
          "text": [
            "Requirement already satisfied: apyori in /usr/local/lib/python3.7/dist-packages (1.1.2)\n"
          ]
        }
      ]
    },
    {
      "cell_type": "code",
      "metadata": {
        "id": "mDLC8WrjuPnb"
      },
      "source": [
        "# csv containing product names\n",
        "names = pd.read_csv('https://raw.githubusercontent.com/medinaltbx/datathones/main/capgemini_mercadona/data/raw/tabla_producto.csv',sep=';')\n",
        "dc_names = {}\n",
        "for row in names.itertuples():\n",
        "  dc_names[str(row.id_producto)] = row.nombre_producto"
      ],
      "execution_count": null,
      "outputs": []
    },
    {
      "cell_type": "code",
      "metadata": {
        "id": "5lO9sn5tXDc-"
      },
      "source": [
        "# initial load\n",
        "df1 = pd.read_csv('https://raw.githubusercontent.com/medinaltbx/datathones/main/capgemini_mercadona/data/raw/tabla_compras_1.csv',sep=';')\n",
        "df2 = pd.read_csv('https://raw.githubusercontent.com/medinaltbx/datathones/main/capgemini_mercadona/data/raw/tabla_compras_2.csv',sep=';')\n",
        "df3 = pd.read_csv('https://raw.githubusercontent.com/medinaltbx/datathones/main/capgemini_mercadona/data/raw/tabla_compras_3.csv',sep=';')\n",
        "df4 = pd.read_csv('https://raw.githubusercontent.com/medinaltbx/datathones/main/capgemini_mercadona/data/raw/tabla_compras_4.csv',sep=';')\n",
        "df5 = pd.read_csv('https://raw.githubusercontent.com/medinaltbx/datathones/main/capgemini_mercadona/data/raw/tabla_compras_5.csv',sep=';')\n",
        "\n",
        "df = pd.concat([df1,df2,df3,df4,df5])"
      ],
      "execution_count": null,
      "outputs": []
    },
    {
      "cell_type": "code",
      "metadata": {
        "colab": {
          "base_uri": "https://localhost:8080/"
        },
        "id": "eRFp8lofiyla",
        "outputId": "fa970b3f-ac8a-428b-a010-697a6f40062a"
      },
      "source": [
        "# dictionary containing list of products by ticket id\n",
        "def make_dc_records(df):\n",
        "  dc = {}\n",
        "  def fill(x):\n",
        "    id = x['id_orden'].iloc[0]\n",
        "    dc[id] = x['id_producto'].unique().tolist()\n",
        "  df.groupby(by=['id_orden']).progress_apply(fill)\n",
        "  \n",
        "  return dc\n",
        "\n",
        "dc = make_dc_records(df)"
      ],
      "execution_count": null,
      "outputs": [
        {
          "output_type": "stream",
          "name": "stderr",
          "text": [
            "100%|██████████| 131209/131209 [00:20<00:00, 6271.06it/s]\n"
          ]
        }
      ]
    },
    {
      "cell_type": "code",
      "metadata": {
        "id": "BUYjzuGXo_e_"
      },
      "source": [
        "def make_apriori(dc):\n",
        "  lista = [dc[x] for x in dc]\n",
        "  results = list(apriori(lista,min_support=0.005,min_confidence=0.2))\n",
        "  return results\n",
        "\n",
        "results = make_apriori(dc)"
      ],
      "execution_count": null,
      "outputs": []
    },
    {
      "cell_type": "code",
      "metadata": {
        "colab": {
          "base_uri": "https://localhost:8080/",
          "height": 363
        },
        "id": "qBYo2YAEwnRQ",
        "outputId": "fdc9aae3-79b7-4921-a524-02c8bbc01dc0"
      },
      "source": [
        "# transformation of model output\n",
        "def make_apriori_results(results):\n",
        "  df = pd.DataFrame(columns=('Items','Antecedent','Consequent','Support','Confidence','Lift'))\n",
        "\n",
        "  Support =[]\n",
        "  Confidence = []\n",
        "  Lift = []\n",
        "  Items = []\n",
        "  Antecedent = []\n",
        "  Consequent=[]\n",
        "\n",
        "  for RelationRecord in results:\n",
        "      for ordered_stat in RelationRecord.ordered_statistics:\n",
        "          Support.append(RelationRecord.support)\n",
        "          Items.append(RelationRecord.items)\n",
        "          Antecedent.append(ordered_stat.items_base)\n",
        "          Consequent.append(ordered_stat.items_add)\n",
        "          Confidence.append(ordered_stat.confidence)\n",
        "          Lift.append(ordered_stat.lift)\n",
        "\n",
        "  df['Items'] = list(map(set, Items))                                   \n",
        "  df['Antecedent'] = list(map(set, Antecedent))\n",
        "  df['Consequent'] = list(map(set, Consequent))\n",
        "  df['Support'] = Support\n",
        "  df['Confidence'] = Confidence\n",
        "  df['Lift']= Lift\n",
        "  return df\n",
        "\n",
        "\n",
        "df_apriori = make_apriori_results(results)\n",
        "df_apriori.head(10)"
      ],
      "execution_count": null,
      "outputs": [
        {
          "output_type": "execute_result",
          "data": {
            "text/html": [
              "\n",
              "  <div id=\"df-9c05dd3a-ff57-48da-a4af-7a68f84c7587\">\n",
              "    <div class=\"colab-df-container\">\n",
              "      <div>\n",
              "<style scoped>\n",
              "    .dataframe tbody tr th:only-of-type {\n",
              "        vertical-align: middle;\n",
              "    }\n",
              "\n",
              "    .dataframe tbody tr th {\n",
              "        vertical-align: top;\n",
              "    }\n",
              "\n",
              "    .dataframe thead th {\n",
              "        text-align: right;\n",
              "    }\n",
              "</style>\n",
              "<table border=\"1\" class=\"dataframe\">\n",
              "  <thead>\n",
              "    <tr style=\"text-align: right;\">\n",
              "      <th></th>\n",
              "      <th>Items</th>\n",
              "      <th>Antecedent</th>\n",
              "      <th>Consequent</th>\n",
              "      <th>Support</th>\n",
              "      <th>Confidence</th>\n",
              "      <th>Lift</th>\n",
              "    </tr>\n",
              "  </thead>\n",
              "  <tbody>\n",
              "    <tr>\n",
              "      <th>0</th>\n",
              "      <td>{24852, 4605}</td>\n",
              "      <td>{4605}</td>\n",
              "      <td>{24852}</td>\n",
              "      <td>0.008163</td>\n",
              "      <td>0.284689</td>\n",
              "      <td>1.994754</td>\n",
              "    </tr>\n",
              "    <tr>\n",
              "      <th>1</th>\n",
              "      <td>{4920, 24852}</td>\n",
              "      <td>{4920}</td>\n",
              "      <td>{24852}</td>\n",
              "      <td>0.008856</td>\n",
              "      <td>0.286277</td>\n",
              "      <td>2.005883</td>\n",
              "    </tr>\n",
              "    <tr>\n",
              "      <th>2</th>\n",
              "      <td>{5450, 24852}</td>\n",
              "      <td>{5450}</td>\n",
              "      <td>{24852}</td>\n",
              "      <td>0.006593</td>\n",
              "      <td>0.278762</td>\n",
              "      <td>1.953228</td>\n",
              "    </tr>\n",
              "    <tr>\n",
              "      <th>3</th>\n",
              "      <td>{13176, 5876}</td>\n",
              "      <td>{5876}</td>\n",
              "      <td>{13176}</td>\n",
              "      <td>0.008132</td>\n",
              "      <td>0.304422</td>\n",
              "      <td>2.580293</td>\n",
              "    </tr>\n",
              "    <tr>\n",
              "      <th>4</th>\n",
              "      <td>{47209, 5876}</td>\n",
              "      <td>{5876}</td>\n",
              "      <td>{47209}</td>\n",
              "      <td>0.005952</td>\n",
              "      <td>0.222825</td>\n",
              "      <td>4.008856</td>\n",
              "    </tr>\n",
              "    <tr>\n",
              "      <th>5</th>\n",
              "      <td>{13176, 8174}</td>\n",
              "      <td>{8174}</td>\n",
              "      <td>{13176}</td>\n",
              "      <td>0.005526</td>\n",
              "      <td>0.366162</td>\n",
              "      <td>3.103598</td>\n",
              "    </tr>\n",
              "    <tr>\n",
              "      <th>6</th>\n",
              "      <td>{13176, 8277}</td>\n",
              "      <td>{8277}</td>\n",
              "      <td>{13176}</td>\n",
              "      <td>0.005236</td>\n",
              "      <td>0.305062</td>\n",
              "      <td>2.585717</td>\n",
              "    </tr>\n",
              "    <tr>\n",
              "      <th>7</th>\n",
              "      <td>{8424, 24852}</td>\n",
              "      <td>{8424}</td>\n",
              "      <td>{24852}</td>\n",
              "      <td>0.007050</td>\n",
              "      <td>0.315484</td>\n",
              "      <td>2.210530</td>\n",
              "    </tr>\n",
              "    <tr>\n",
              "      <th>8</th>\n",
              "      <td>{13176, 8518}</td>\n",
              "      <td>{8518}</td>\n",
              "      <td>{13176}</td>\n",
              "      <td>0.006135</td>\n",
              "      <td>0.210843</td>\n",
              "      <td>1.787116</td>\n",
              "    </tr>\n",
              "    <tr>\n",
              "      <th>9</th>\n",
              "      <td>{9076, 24852}</td>\n",
              "      <td>{9076}</td>\n",
              "      <td>{24852}</td>\n",
              "      <td>0.005457</td>\n",
              "      <td>0.308222</td>\n",
              "      <td>2.159645</td>\n",
              "    </tr>\n",
              "  </tbody>\n",
              "</table>\n",
              "</div>\n",
              "      <button class=\"colab-df-convert\" onclick=\"convertToInteractive('df-9c05dd3a-ff57-48da-a4af-7a68f84c7587')\"\n",
              "              title=\"Convert this dataframe to an interactive table.\"\n",
              "              style=\"display:none;\">\n",
              "        \n",
              "  <svg xmlns=\"http://www.w3.org/2000/svg\" height=\"24px\"viewBox=\"0 0 24 24\"\n",
              "       width=\"24px\">\n",
              "    <path d=\"M0 0h24v24H0V0z\" fill=\"none\"/>\n",
              "    <path d=\"M18.56 5.44l.94 2.06.94-2.06 2.06-.94-2.06-.94-.94-2.06-.94 2.06-2.06.94zm-11 1L8.5 8.5l.94-2.06 2.06-.94-2.06-.94L8.5 2.5l-.94 2.06-2.06.94zm10 10l.94 2.06.94-2.06 2.06-.94-2.06-.94-.94-2.06-.94 2.06-2.06.94z\"/><path d=\"M17.41 7.96l-1.37-1.37c-.4-.4-.92-.59-1.43-.59-.52 0-1.04.2-1.43.59L10.3 9.45l-7.72 7.72c-.78.78-.78 2.05 0 2.83L4 21.41c.39.39.9.59 1.41.59.51 0 1.02-.2 1.41-.59l7.78-7.78 2.81-2.81c.8-.78.8-2.07 0-2.86zM5.41 20L4 18.59l7.72-7.72 1.47 1.35L5.41 20z\"/>\n",
              "  </svg>\n",
              "      </button>\n",
              "      \n",
              "  <style>\n",
              "    .colab-df-container {\n",
              "      display:flex;\n",
              "      flex-wrap:wrap;\n",
              "      gap: 12px;\n",
              "    }\n",
              "\n",
              "    .colab-df-convert {\n",
              "      background-color: #E8F0FE;\n",
              "      border: none;\n",
              "      border-radius: 50%;\n",
              "      cursor: pointer;\n",
              "      display: none;\n",
              "      fill: #1967D2;\n",
              "      height: 32px;\n",
              "      padding: 0 0 0 0;\n",
              "      width: 32px;\n",
              "    }\n",
              "\n",
              "    .colab-df-convert:hover {\n",
              "      background-color: #E2EBFA;\n",
              "      box-shadow: 0px 1px 2px rgba(60, 64, 67, 0.3), 0px 1px 3px 1px rgba(60, 64, 67, 0.15);\n",
              "      fill: #174EA6;\n",
              "    }\n",
              "\n",
              "    [theme=dark] .colab-df-convert {\n",
              "      background-color: #3B4455;\n",
              "      fill: #D2E3FC;\n",
              "    }\n",
              "\n",
              "    [theme=dark] .colab-df-convert:hover {\n",
              "      background-color: #434B5C;\n",
              "      box-shadow: 0px 1px 3px 1px rgba(0, 0, 0, 0.15);\n",
              "      filter: drop-shadow(0px 1px 2px rgba(0, 0, 0, 0.3));\n",
              "      fill: #FFFFFF;\n",
              "    }\n",
              "  </style>\n",
              "\n",
              "      <script>\n",
              "        const buttonEl =\n",
              "          document.querySelector('#df-9c05dd3a-ff57-48da-a4af-7a68f84c7587 button.colab-df-convert');\n",
              "        buttonEl.style.display =\n",
              "          google.colab.kernel.accessAllowed ? 'block' : 'none';\n",
              "\n",
              "        async function convertToInteractive(key) {\n",
              "          const element = document.querySelector('#df-9c05dd3a-ff57-48da-a4af-7a68f84c7587');\n",
              "          const dataTable =\n",
              "            await google.colab.kernel.invokeFunction('convertToInteractive',\n",
              "                                                     [key], {});\n",
              "          if (!dataTable) return;\n",
              "\n",
              "          const docLinkHtml = 'Like what you see? Visit the ' +\n",
              "            '<a target=\"_blank\" href=https://colab.research.google.com/notebooks/data_table.ipynb>data table notebook</a>'\n",
              "            + ' to learn more about interactive tables.';\n",
              "          element.innerHTML = '';\n",
              "          dataTable['output_type'] = 'display_data';\n",
              "          await google.colab.output.renderOutput(dataTable, element);\n",
              "          const docLink = document.createElement('div');\n",
              "          docLink.innerHTML = docLinkHtml;\n",
              "          element.appendChild(docLink);\n",
              "        }\n",
              "      </script>\n",
              "    </div>\n",
              "  </div>\n",
              "  "
            ],
            "text/plain": [
              "           Items Antecedent Consequent   Support  Confidence      Lift\n",
              "0  {24852, 4605}     {4605}    {24852}  0.008163    0.284689  1.994754\n",
              "1  {4920, 24852}     {4920}    {24852}  0.008856    0.286277  2.005883\n",
              "2  {5450, 24852}     {5450}    {24852}  0.006593    0.278762  1.953228\n",
              "3  {13176, 5876}     {5876}    {13176}  0.008132    0.304422  2.580293\n",
              "4  {47209, 5876}     {5876}    {47209}  0.005952    0.222825  4.008856\n",
              "5  {13176, 8174}     {8174}    {13176}  0.005526    0.366162  3.103598\n",
              "6  {13176, 8277}     {8277}    {13176}  0.005236    0.305062  2.585717\n",
              "7  {8424, 24852}     {8424}    {24852}  0.007050    0.315484  2.210530\n",
              "8  {13176, 8518}     {8518}    {13176}  0.006135    0.210843  1.787116\n",
              "9  {9076, 24852}     {9076}    {24852}  0.005457    0.308222  2.159645"
            ]
          },
          "metadata": {},
          "execution_count": 7
        }
      ]
    },
    {
      "cell_type": "markdown",
      "metadata": {
        "id": "SVNOiBlgnKNJ"
      },
      "source": [
        "PARTE ALGORITMO RECOMENDADOR"
      ]
    },
    {
      "cell_type": "code",
      "source": [
        "# SECOND MODEL: word2vec"
      ],
      "metadata": {
        "id": "OZuruNUlWHKn"
      },
      "execution_count": null,
      "outputs": []
    },
    {
      "cell_type": "code",
      "metadata": {
        "id": "ctKdxOy0nlUv"
      },
      "source": [
        "import numpy as np\n",
        "import random\n",
        "import matplotlib.pyplot as plt\n",
        "from time import time\n",
        "from gensim.models import Word2Vec "
      ],
      "execution_count": null,
      "outputs": []
    },
    {
      "cell_type": "code",
      "metadata": {
        "id": "sxVHxGPanNV-"
      },
      "source": [
        "def prepare_data(dc):\n",
        "  for k in dc:\n",
        "    dc[k] = [str(x) for x in dc[k]]\n",
        "  records = list(dc.values())\n",
        "  random.shuffle(records)\n",
        "  stop = int(len(records)*0.8)\n",
        "  train, test = records[:stop], records[stop:]\n",
        "  return records, train, test\n",
        "\n",
        "records, train, test = prepare_data(dc)"
      ],
      "execution_count": null,
      "outputs": []
    },
    {
      "cell_type": "code",
      "metadata": {
        "id": "o6Wj4C7BnMPx",
        "colab": {
          "base_uri": "https://localhost:8080/"
        },
        "outputId": "23737b8c-f211-4843-a826-d412b481b62c"
      },
      "source": [
        "# train word2vec model\n",
        "def create_model(records):\n",
        "  t = time()\n",
        "  model = Word2Vec(window = 10,sg = 1,hs = 0,negative = 10,alpha=0.03,min_alpha=0.0007,seed = 14)\n",
        "  model.build_vocab(records, progress_per=200)\n",
        "  model.train(records,total_examples = model.corpus_count,epochs=10,report_delay=1)\n",
        "  print('TIME: ', time()-t)\n",
        "  model.init_sims(replace=True)\n",
        "  return model\n",
        "model = create_model(records)"
      ],
      "execution_count": null,
      "outputs": [
        {
          "output_type": "stream",
          "name": "stdout",
          "text": [
            "TIME:  179.63672375679016\n"
          ]
        }
      ]
    },
    {
      "cell_type": "code",
      "metadata": {
        "colab": {
          "base_uri": "https://localhost:8080/"
        },
        "id": "POvahKzZsuIa",
        "outputId": "b770e47d-0427-4808-cbfe-d86279687362"
      },
      "source": [
        "def get_similar_prods(prod_prueba,model,n_elements=5):\n",
        "\n",
        "  sim_words = model.wv.most_similar(prod_prueba, topn=20)\n",
        "  res = pd.DataFrame({'Producto':[],'Confianza':[]})\n",
        "\n",
        "  for x in sim_words:\n",
        "    res = pd.concat([res, pd.DataFrame({'Producto':[dc_names[x[0]]],'Confianza':[x[1]]})])\n",
        "\n",
        "  res.reset_index(drop=True, inplace=True)\n",
        "  if len(res)>n_elements:\n",
        "    res = res[:n_elements]\n",
        "  print(f'PRODUCTOS QUE ESTAN RELACIONADOS CON PRODUCTO CON ID = {prod_prueba} ({dc_names[prod_prueba]})')\n",
        "  return res\n",
        "\n",
        "prod_prueba = '1' # IDENTIFICADOR DEL PRODUCTO\n",
        "n_elements = 5    # NUMERO DE PRODUCTOS RECOMENDADOS\n",
        "\n",
        "keys = list(model.wv.vocab.keys())\n",
        "if prod_prueba in list(model.wv.vocab.keys()):\n",
        "  print(get_similar_prods(prod_prueba = prod_prueba, n_elements = n_elements, model=model))\n",
        "else:\n",
        "  print('THIS KEY DOES NOT HAVE RECOMMENDED PRODUCTS. THESE ARE SOME AVAILABLE KEYS: ', keys[:20])"
      ],
      "execution_count": null,
      "outputs": [
        {
          "output_type": "stream",
          "name": "stdout",
          "text": [
            "PRODUCTOS QUE ESTAN RELACIONADOS CON PRODUCTO CON ID = 1 (GALLETAS DEL EMPAREDADO DEL CHOCOLATE)\n",
            "                                     Producto  Confianza\n",
            "0                    CHEEZ-IT CHEDDAR CRACKER   0.918878\n",
            "1            NUTRI GRAIN BARRAS MULTI PAQUETE   0.897148\n",
            "2               SABOR COPA DE FIDEOS DE POLLO   0.886783\n",
            "3                       PEPPERONI BAGEL BITES   0.876092\n",
            "4  CINE MANTEQUILLA DE PALOMITAS DE MICROONDA   0.874172\n"
          ]
        }
      ]
    }
  ]
}